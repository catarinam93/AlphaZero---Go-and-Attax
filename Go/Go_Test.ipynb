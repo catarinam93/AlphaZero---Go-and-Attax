{
 "cells": [
  {
   "cell_type": "code",
   "execution_count": 4,
   "id": "f64890a1-1a72-412b-a32c-701a5a557e89",
   "metadata": {},
   "outputs": [],
   "source": [
    "import sys\n",
    "import time\n",
    "import threading\n",
    "import numpy as np\n",
    "import os"
   ]
  },
  {
   "cell_type": "code",
   "execution_count": 5,
   "id": "e630f036-9678-4290-8057-d243da38a2f3",
   "metadata": {},
   "outputs": [],
   "source": [
    "%run NeuralNetwork_Go.ipynb # Neural Network\n",
    "%run GoGame.ipynb # Game\n",
    "%run MCTS_Go.ipynb # MCTS\n",
    "%run AlphaZero_Go.ipynb # Statistics"
   ]
  },
  {
   "cell_type": "markdown",
   "id": "ac6234c8-5e63-42f5-98d6-03c8756a032c",
   "metadata": {
    "jp-MarkdownHeadingCollapsed": true
   },
   "source": [
    "### To test only the game - Player vs Player"
   ]
  },
  {
   "cell_type": "code",
   "execution_count": 13,
   "id": "aa2f9bff",
   "metadata": {
    "scrolled": true
   },
   "outputs": [
    {
     "name": "stdout",
     "output_type": "stream",
     "text": [
      "Choose the dimension of the board: 7 - 7*7 or 9 - 9*9\n",
      "7\n",
      "Board State:\n",
      "[[0 0 0 0 0 0 0]\n",
      " [0 0 0 0 0 0 0]\n",
      " [0 0 0 0 0 0 0]\n",
      " [0 0 0 0 0 0 0]\n",
      " [0 0 0 0 0 0 0]\n",
      " [0 0 0 0 0 0 0]\n",
      " [0 0 0 0 0 0 0]]\n",
      "valid moves [0, 1, 2, 3, 4, 5, 6, 7, 8, 9, 10, 11, 12, 13, 14, 15, 16, 17, 18, 19, 20, 21, 22, 23, 24, 25, 26, 27, 28, 29, 30, 31, 32, 33, 34, 35, 36, 37, 38, 39, 40, 41, 42, 43, 44, 45, 46, 47, 48, 81]\n",
      "pass_count:  0\n",
      "Player 1's turn: 0\n",
      "Board State:\n",
      "[[1 0 0 0 0 0 0]\n",
      " [0 0 0 0 0 0 0]\n",
      " [0 0 0 0 0 0 0]\n",
      " [0 0 0 0 0 0 0]\n",
      " [0 0 0 0 0 0 0]\n",
      " [0 0 0 0 0 0 0]\n",
      " [0 0 0 0 0 0 0]]\n",
      "valid moves [1, 2, 3, 4, 5, 6, 7, 8, 9, 10, 11, 12, 13, 14, 15, 16, 17, 18, 19, 20, 21, 22, 23, 24, 25, 26, 27, 28, 29, 30, 31, 32, 33, 34, 35, 36, 37, 38, 39, 40, 41, 42, 43, 44, 45, 46, 47, 48, 81]\n",
      "pass_count:  0\n",
      "Player -1's turn: "
     ]
    },
    {
     "ename": "KeyboardInterrupt",
     "evalue": "",
     "output_type": "error",
     "traceback": [
      "\u001b[1;31m---------------------------------------------------------------------------\u001b[0m",
      "\u001b[1;31mKeyboardInterrupt\u001b[0m                         Traceback (most recent call last)",
      "\u001b[1;32m<ipython-input-13-ff6683e08743>\u001b[0m in \u001b[0;36m<module>\u001b[1;34m\u001b[0m\n\u001b[0;32m     42\u001b[0m \u001b[1;33m\u001b[0m\u001b[0m\n\u001b[0;32m     43\u001b[0m             \u001b[1;32mwhile\u001b[0m \u001b[0mtime\u001b[0m\u001b[1;33m.\u001b[0m\u001b[0mtime\u001b[0m\u001b[1;33m(\u001b[0m\u001b[1;33m)\u001b[0m \u001b[1;33m-\u001b[0m \u001b[0mstart_time\u001b[0m \u001b[1;33m<\u001b[0m \u001b[0mMAX_MOVE_TIME\u001b[0m\u001b[1;33m:\u001b[0m \u001b[1;31m# Wait for the player to make a move\u001b[0m\u001b[1;33m\u001b[0m\u001b[1;33m\u001b[0m\u001b[0m\n\u001b[1;32m---> 44\u001b[1;33m                 \u001b[0mcurrent_time\u001b[0m \u001b[1;33m=\u001b[0m \u001b[0mtime\u001b[0m\u001b[1;33m.\u001b[0m\u001b[0mtime\u001b[0m\u001b[1;33m(\u001b[0m\u001b[1;33m)\u001b[0m \u001b[1;31m# Get the current time\u001b[0m\u001b[1;33m\u001b[0m\u001b[1;33m\u001b[0m\u001b[0m\n\u001b[0m\u001b[0;32m     45\u001b[0m                 \u001b[0melapsed_time\u001b[0m \u001b[1;33m=\u001b[0m \u001b[0mcurrent_time\u001b[0m \u001b[1;33m-\u001b[0m \u001b[0mstart_time\u001b[0m \u001b[1;31m# Calculate the elapsed time\u001b[0m\u001b[1;33m\u001b[0m\u001b[1;33m\u001b[0m\u001b[0m\n\u001b[0;32m     46\u001b[0m                 \u001b[1;32mif\u001b[0m \u001b[0melapsed_time\u001b[0m \u001b[1;33m<\u001b[0m \u001b[0mnext_notification_time\u001b[0m \u001b[1;32mand\u001b[0m \u001b[0melapsed_time\u001b[0m \u001b[1;33m>=\u001b[0m \u001b[0mnext_notification_time\u001b[0m \u001b[1;33m-\u001b[0m \u001b[1;36m5\u001b[0m\u001b[1;33m:\u001b[0m \u001b[1;31m# Check if it's time to notify the player\u001b[0m\u001b[1;33m\u001b[0m\u001b[1;33m\u001b[0m\u001b[0m\n",
      "\u001b[1;31mKeyboardInterrupt\u001b[0m: "
     ]
    }
   ],
   "source": [
    "# Function to get a player's action from the input\n",
    "def get_player_action(player, valid_moves, action_queue, continue_waiting):\n",
    "    try: # Try to get a valid action from the player\n",
    "        while continue_waiting[0]: # Wait for the player to enter a valid action\n",
    "            print(f\"Player {player}'s turn: \", end=\"\", flush=True) # Flush the print buffer to ensure the prompt is displayed\n",
    "            action = input() # Get the player's input\n",
    "            if action: # Check if the input is not empty\n",
    "                action = int(action) # Convert the input to an integer\n",
    "                if action in valid_moves: # Check if the input is a valid move\n",
    "                    action_queue.append(action) # Add the action to the queue\n",
    "                    break # Exit the loop\n",
    "            time.sleep(0.5)  # Short sleep to prevent busy waiting\n",
    "    except ValueError: # Catch invalid input    \n",
    "        print(\"Invalid input, please enter a number.\") # Print an error message\n",
    "\n",
    "player = 1 # Player to start the game\n",
    "MAX_MOVE_TIME = 30  # Maximum time for a move in seconds\n",
    "\n",
    "# Main loop for the game\n",
    "while True: \n",
    "    print(\"Choose the dimension of the board: 7 - 7*7 or 9 - 9*9\") \n",
    "    dimension = int(input()) # Get the player's input\n",
    "    if dimension == 7 or dimension == 9: # Check if the input is a valid dimension\n",
    "        game = GoGame(dimension) # Initialize the game\n",
    "        state = game.get_initial_state() # Get the initial state\n",
    "\n",
    "        # Main loop for the game turns\n",
    "        while True:\n",
    "            print(\"Board State:\") \n",
    "            print(state) # Print the current state\n",
    "            valid_moves = game.get_valid_moves(state, player) # Get the valid moves for the current player\n",
    "            print(\"valid moves\", valid_moves) # Print the valid moves\n",
    "            print(\"pass_count: \", game.pass_count) # Print the number of consecutive passes\n",
    "\n",
    "            start_time = time.time()  # Start the move timer\n",
    "            action_queue = [] # Queue to store the player's action\n",
    "            continue_waiting = [True] # Flag to signal the input thread to continue waiting for input\n",
    "            input_thread = threading.Thread(target=get_player_action, args=(player, valid_moves, action_queue, continue_waiting)) # Create a thread to get the player's input\n",
    "            input_thread.start() # Start the thread\n",
    "\n",
    "            next_notification_time = MAX_MOVE_TIME # Time for the next notification\n",
    "             \n",
    "            while time.time() - start_time < MAX_MOVE_TIME: # Wait for the player to make a move\n",
    "                current_time = time.time() # Get the current time\n",
    "                elapsed_time = current_time - start_time # Calculate the elapsed time\n",
    "                if elapsed_time < next_notification_time and elapsed_time >= next_notification_time - 5: # Check if it's time to notify the player\n",
    "                    print(f\"Remaining time: {next_notification_time - elapsed_time:.2f} seconds\") # Print the remaining time\n",
    "                    next_notification_time -= 5 # Update the next notification time\n",
    "\n",
    "                if not input_thread.is_alive(): # Check if the input thread has finished\n",
    "                    break  # Exit the loop if the player has made a move\n",
    "\n",
    "            if input_thread.is_alive(): # Check if the input thread is still alive\n",
    "                continue_waiting[0] = False  # Signal the thread to stop waiting for input\n",
    "                input_thread.join()  # Ensure the thread completes\n",
    "                print(f\"Time's up! Switching to Player {-player}.\") # Print a message to notify the player\n",
    "                player = -player # Switch players\n",
    "                continue  # Skip to the next player without updating the state\n",
    "\n",
    "            if action_queue: # Check if the player has made a move\n",
    "                action = action_queue.pop(0) # Get the player's action\n",
    "                is_valid_move = game.is_valid_move(action, state, player) # Check if the action is valid\n",
    " \n",
    "                if not is_valid_move: # Check if the action is not valid\n",
    "                    print(\"Please select a valid move\") # Print an error message\n",
    "                    continue # Skip to the next player without updating the state\n",
    "\n",
    "                state = game.get_next_state(state, action, player) # Update the state\n",
    "                value, winner, is_terminal = game.get_value_and_terminated(state, action, player) # Check if the game has ended\n",
    "\n",
    "                if is_terminal: # Check if the game has ended\n",
    "                    print(state) # Print the final state\n",
    "                    if value == 1: # Check if someone won\n",
    "                        print(winner, \"won\") # Print a message to notify the player\n",
    "                    else: # It's a draw\n",
    "                        print(\"draw\") # Print a message to notify the player\n",
    "                    break # Exit the game loop\n",
    "\n",
    "            player = -player  # Switch players\n",
    "\n",
    "    else: # Invalid dimension \n",
    "        print(\"Select a valid dimension\") # Print an error message\n",
    "        continue # Skip to the next player without updating the state"
   ]
  },
  {
   "cell_type": "markdown",
   "id": "03b82085",
   "metadata": {},
   "source": [
    "### To test the game with MCTS - Player vs MCTS"
   ]
  },
  {
   "cell_type": "markdown",
   "id": "2fb1a82e-58c4-4384-9b88-66cf3eccd8f9",
   "metadata": {
    "jp-MarkdownHeadingCollapsed": true
   },
   "source": [
    "### To test the nn"
   ]
  },
  {
   "cell_type": "markdown",
   "id": "d7f016ee",
   "metadata": {},
   "source": [
    "If you want to test the RNN, change model to : GoRNN(game, 4, 64, device)"
   ]
  },
  {
   "cell_type": "code",
   "execution_count": 7,
   "id": "11471b94-152a-4925-9d7c-a1ed7b69b260",
   "metadata": {},
   "outputs": [
    {
     "name": "stdout",
     "output_type": "stream",
     "text": [
      "Checking liberties for stone at (0, 2)\n",
      "Captured stones: []\n",
      "Applying move at row 0, column 2 by player 1\n",
      "Checking liberties for stone at (0, 7)\n",
      "Captured stones: []\n",
      "Applying move at row 0, column 7 by player -1\n",
      "[[[0. 0. 0. 0. 0. 0. 0. 1. 0.]\n",
      "  [0. 0. 0. 0. 0. 0. 0. 0. 0.]\n",
      "  [0. 0. 0. 0. 0. 0. 0. 0. 0.]\n",
      "  [0. 0. 0. 0. 0. 0. 0. 0. 0.]\n",
      "  [0. 0. 0. 0. 0. 0. 0. 0. 0.]\n",
      "  [0. 0. 0. 0. 0. 0. 0. 0. 0.]\n",
      "  [0. 0. 0. 0. 0. 0. 0. 0. 0.]\n",
      "  [0. 0. 0. 0. 0. 0. 0. 0. 0.]\n",
      "  [0. 0. 0. 0. 0. 0. 0. 0. 0.]]\n",
      "\n",
      " [[1. 1. 0. 1. 1. 1. 1. 0. 1.]\n",
      "  [1. 1. 1. 1. 1. 1. 1. 1. 1.]\n",
      "  [1. 1. 1. 1. 1. 1. 1. 1. 1.]\n",
      "  [1. 1. 1. 1. 1. 1. 1. 1. 1.]\n",
      "  [1. 1. 1. 1. 1. 1. 1. 1. 1.]\n",
      "  [1. 1. 1. 1. 1. 1. 1. 1. 1.]\n",
      "  [1. 1. 1. 1. 1. 1. 1. 1. 1.]\n",
      "  [1. 1. 1. 1. 1. 1. 1. 1. 1.]\n",
      "  [1. 1. 1. 1. 1. 1. 1. 1. 1.]]\n",
      "\n",
      " [[0. 0. 1. 0. 0. 0. 0. 0. 0.]\n",
      "  [0. 0. 0. 0. 0. 0. 0. 0. 0.]\n",
      "  [0. 0. 0. 0. 0. 0. 0. 0. 0.]\n",
      "  [0. 0. 0. 0. 0. 0. 0. 0. 0.]\n",
      "  [0. 0. 0. 0. 0. 0. 0. 0. 0.]\n",
      "  [0. 0. 0. 0. 0. 0. 0. 0. 0.]\n",
      "  [0. 0. 0. 0. 0. 0. 0. 0. 0.]\n",
      "  [0. 0. 0. 0. 0. 0. 0. 0. 0.]\n",
      "  [0. 0. 0. 0. 0. 0. 0. 0. 0.]]]\n",
      "tensor([[[[0., 0., 0., 0., 0., 0., 0., 1., 0.],\n",
      "          [0., 0., 0., 0., 0., 0., 0., 0., 0.],\n",
      "          [0., 0., 0., 0., 0., 0., 0., 0., 0.],\n",
      "          [0., 0., 0., 0., 0., 0., 0., 0., 0.],\n",
      "          [0., 0., 0., 0., 0., 0., 0., 0., 0.],\n",
      "          [0., 0., 0., 0., 0., 0., 0., 0., 0.],\n",
      "          [0., 0., 0., 0., 0., 0., 0., 0., 0.],\n",
      "          [0., 0., 0., 0., 0., 0., 0., 0., 0.],\n",
      "          [0., 0., 0., 0., 0., 0., 0., 0., 0.]],\n",
      "\n",
      "         [[1., 1., 0., 1., 1., 1., 1., 0., 1.],\n",
      "          [1., 1., 1., 1., 1., 1., 1., 1., 1.],\n",
      "          [1., 1., 1., 1., 1., 1., 1., 1., 1.],\n",
      "          [1., 1., 1., 1., 1., 1., 1., 1., 1.],\n",
      "          [1., 1., 1., 1., 1., 1., 1., 1., 1.],\n",
      "          [1., 1., 1., 1., 1., 1., 1., 1., 1.],\n",
      "          [1., 1., 1., 1., 1., 1., 1., 1., 1.],\n",
      "          [1., 1., 1., 1., 1., 1., 1., 1., 1.],\n",
      "          [1., 1., 1., 1., 1., 1., 1., 1., 1.]],\n",
      "\n",
      "         [[0., 0., 1., 0., 0., 0., 0., 0., 0.],\n",
      "          [0., 0., 0., 0., 0., 0., 0., 0., 0.],\n",
      "          [0., 0., 0., 0., 0., 0., 0., 0., 0.],\n",
      "          [0., 0., 0., 0., 0., 0., 0., 0., 0.],\n",
      "          [0., 0., 0., 0., 0., 0., 0., 0., 0.],\n",
      "          [0., 0., 0., 0., 0., 0., 0., 0., 0.],\n",
      "          [0., 0., 0., 0., 0., 0., 0., 0., 0.],\n",
      "          [0., 0., 0., 0., 0., 0., 0., 0., 0.],\n",
      "          [0., 0., 0., 0., 0., 0., 0., 0., 0.]]]])\n",
      "value:  0.6140791177749634\n",
      "policy:  [0.00713453 0.00838346 0.01012406 0.01091435 0.01987647 0.0104742\n",
      " 0.00563766 0.01291399 0.014367   0.01699454 0.01613341 0.01640244\n",
      " 0.01263381 0.00842671 0.00739302 0.01019303 0.00911524 0.00847856\n",
      " 0.01223416 0.00787089 0.01733544 0.01334654 0.01082395 0.02092378\n",
      " 0.01527335 0.0194874  0.02424977 0.01071509 0.00897275 0.00851602\n",
      " 0.01360789 0.00981062 0.014978   0.00996742 0.00892945 0.01460547\n",
      " 0.00662968 0.01595523 0.01814751 0.0108945  0.00852854 0.00731383\n",
      " 0.01317086 0.00906067 0.01168495 0.0170798  0.01442438 0.01780712\n",
      " 0.0114959  0.00744785 0.00634231 0.01109006 0.00819301 0.01699235\n",
      " 0.00807649 0.00806131 0.01504926 0.01096932 0.006521   0.00594428\n",
      " 0.01230594 0.03081824 0.0106898  0.01180643 0.01217682 0.00828022\n",
      " 0.00987161 0.01760811 0.01618744 0.01085373 0.0078051  0.01421978\n",
      " 0.00614369 0.00939598 0.00894003 0.0164177  0.00703718 0.02347038\n",
      " 0.01300295 0.00473185 0.02026737 0.01384499]\n"
     ]
    },
    {
     "data": {
      "image/png": "[encoded data removed]",
      "text/plain": [
       "<Figure size 640x480 with 1 Axes>"
      ]
     },
     "metadata": {},
     "output_type": "display_data"
    }
   ],
   "source": [
    "\n",
    "import matplotlib.pyplot as plt\n",
    "\n",
    "game = GoGame(9) # 9 - dimension\n",
    "state = game.get_initial_state() # Get the initial state\n",
    "state = game.get_next_state(state, 2, 1) # 2 - action, 1 - player\n",
    "state = game.get_next_state(state, 7, -1) # 7 - action, -1 - player\n",
    "\n",
    "encoded_state = game.get_encoded_state(state)  # Get the encoded state\n",
    "print(encoded_state) # Print the encoded state\n",
    "\n",
    "device = torch.device(\"cuda\" if torch.cuda.is_available() else \"cpu\") # Check if GPU is available\n",
    "\n",
    "tensor_state = torch.tensor(encoded_state).unsqueeze(0) # Convert the encoded state to a tensor and add a batch dimension (batch size = 1)\n",
    "model = ResNet(game, 4, 64, device) # Initialize the model with the same parameters used in training (4 residual blocks, 64 filters)\n",
    "print(tensor_state) # Print the tensor state\n",
    "policy, value= model(tensor_state) # Get the policy and value predictions\n",
    "value = value.item() # Get the value as a scalar\n",
    "policy = torch.softmax(policy, axis=1).squeeze(0).detach().cpu().numpy() # Convert the policy to a numpy array\n",
    "print(\"value: \", value) # Print the value\n",
    "np.set_printoptions(threshold=np.inf) # Print the full policy array\n",
    "print(\"policy: \", policy) # Print the policy\n",
    "\n",
    "plt.bar(range(game.action_size+1), policy) # Plot the policy\n",
    "plt.show() # Show the plot"
   ]
  },
  {
   "cell_type": "markdown",
   "id": "534b21a4-21fe-4845-a25a-5b35c945592d",
   "metadata": {
    "jp-MarkdownHeadingCollapsed": true
   },
   "source": [
    "### To test the game with MCTS"
   ]
  },
  {
   "cell_type": "markdown",
   "id": "d5103273-d0a2-4ec3-84da-f95d5c70e5d8",
   "metadata": {},
   "source": [
    "For this one you need to uncomment the version of MCTS commented on MCTS_Go.ipynb\n",
    "\n",
    "Do not forget to comment the current version"
   ]
  },
  {
   "cell_type": "code",
   "execution_count": null,
   "id": "850fc739-4004-4823-8fc2-8f0a10c55f3a",
   "metadata": {},
   "outputs": [],
   "source": [
    "game = GoGame(9) # 9 - dimension\n",
    "player = 1 # Player to start the game\n",
    "state = game.get_initial_state() # Get the initial state\n",
    "\n",
    "args = {\n",
    "    'C' : 1.41,  # Exploration constant for the UCT formula \n",
    "    'num_searches': 5 # Number of searches to run for each move\n",
    "}\n",
    "    \n",
    "mcts = MCTS(game, args, player) # Initialize the MCTS\n",
    "\n",
    "# Main loop for the game\n",
    "while True: \n",
    "    \n",
    "    game.reset_time() # Reset the game time\n",
    "    \n",
    "    if player == 1: # Check if it's the player's turn\n",
    "        print(\"Board State:\") \n",
    "        print(state) # Print the current state\n",
    "        valid_moves = game.get_valid_moves(state, player) # Get the valid moves for the current player\n",
    "        print(\"valid moves\", valid_moves) # Print the valid moves\n",
    "        \n",
    "        print(\"If you would like to pass, select 81 otherwise choose the cell you want\") \n",
    "        action = int(input(f\"{player}: \")) # Get the player's input\n",
    "        \n",
    "        is_valid_move = game.is_valid_move(action, state, player) # Check if the action is valid\n",
    "        \n",
    "        if not is_valid_move: # Check if the action is not valid\n",
    "            print(\"Please select a valid move\") # Print an error message\n",
    "            continue \n",
    "        else: # Valid move\n",
    "            state = game.get_next_state(state, action, player) # Update the state\n",
    "            value, winner, is_terminal = game.get_value_and_terminated(state, action, player) # Check if the game has ended\n",
    "\n",
    "    else: # AI's turn\n",
    "        # neutral_state = game.change_perspective(state, player) # Change the perspective of the state\n",
    "        mcts_probs = mcts.search(state) # Get the MCTS probabilities\n",
    "        action = np.argmax(mcts_probs) # Get the action with the highest probability\n",
    "\n",
    "        state = game.get_next_state(state, action, player) # Update the state\n",
    "        value, winner, is_terminal = game.get_value_and_terminated(state, action, player) # Check if the game has ended\n",
    "    \n",
    "    if action == 81: # Check if the player passed\n",
    "        game.pass_count += 1 # Increment the number of consecutive passes\n",
    "\n",
    "    if is_terminal: # Check if the game has ended\n",
    "        if value == 1: # Check if someone won\n",
    "            print(winner, \"won\") # Print a message to notify the player\n",
    "        else: # It's a draw\n",
    "            print(\"draw\") # Print a message to notify the player\n",
    "        break\n",
    "    \n",
    "    player = -player # Switch players"
   ]
  },
  {
   "cell_type": "markdown",
   "id": "98676263-d14d-4085-9492-da162e140d43",
   "metadata": {
    "jp-MarkdownHeadingCollapsed": true
   },
   "source": [
    "### To test the game with the nn"
   ]
  },
  {
   "cell_type": "code",
   "execution_count": 40,
   "id": "657b42df",
   "metadata": {
    "scrolled": false
   },
   "outputs": [
    {
     "name": "stdout",
     "output_type": "stream",
     "text": [
      "Choose the dimension of the board: 7 - 7*7 or 9 - 9*9\n"
     ]
    },
    {
     "ename": "KeyboardInterrupt",
     "evalue": "Interrupted by user",
     "output_type": "error",
     "traceback": [
      "\u001b[1;31m---------------------------------------------------------------------------\u001b[0m",
      "\u001b[1;31mKeyboardInterrupt\u001b[0m                         Traceback (most recent call last)",
      "\u001b[1;32m<ipython-input-40-86a00a7f2d78>\u001b[0m in \u001b[0;36m<module>\u001b[1;34m\u001b[0m\n\u001b[0;32m     19\u001b[0m \u001b[1;31m# Choose the dimension of the board\u001b[0m\u001b[1;33m\u001b[0m\u001b[1;33m\u001b[0m\u001b[0m\n\u001b[0;32m     20\u001b[0m \u001b[0mprint\u001b[0m\u001b[1;33m(\u001b[0m\u001b[1;34m\"Choose the dimension of the board: 7 - 7*7 or 9 - 9*9\"\u001b[0m\u001b[1;33m)\u001b[0m\u001b[1;33m\u001b[0m\u001b[1;33m\u001b[0m\u001b[0m\n\u001b[1;32m---> 21\u001b[1;33m \u001b[0mdimension\u001b[0m \u001b[1;33m=\u001b[0m \u001b[0mint\u001b[0m\u001b[1;33m(\u001b[0m\u001b[0minput\u001b[0m\u001b[1;33m(\u001b[0m\u001b[1;33m)\u001b[0m\u001b[1;33m)\u001b[0m\u001b[1;33m\u001b[0m\u001b[1;33m\u001b[0m\u001b[0m\n\u001b[0m\u001b[0;32m     22\u001b[0m \u001b[1;32mif\u001b[0m \u001b[0mdimension\u001b[0m \u001b[1;32mnot\u001b[0m \u001b[1;32min\u001b[0m \u001b[1;33m[\u001b[0m\u001b[1;36m7\u001b[0m\u001b[1;33m,\u001b[0m \u001b[1;36m9\u001b[0m\u001b[1;33m]\u001b[0m\u001b[1;33m:\u001b[0m\u001b[1;33m\u001b[0m\u001b[1;33m\u001b[0m\u001b[0m\n\u001b[0;32m     23\u001b[0m     \u001b[0mprint\u001b[0m\u001b[1;33m(\u001b[0m\u001b[1;34m\"Select a valid dimension\"\u001b[0m\u001b[1;33m)\u001b[0m\u001b[1;33m\u001b[0m\u001b[1;33m\u001b[0m\u001b[0m\n",
      "\u001b[1;32m~\\anaconda3\\lib\\site-packages\\ipykernel\\kernelbase.py\u001b[0m in \u001b[0;36mraw_input\u001b[1;34m(self, prompt)\u001b[0m\n\u001b[0;32m    846\u001b[0m                 \u001b[1;34m\"raw_input was called, but this frontend does not support input requests.\"\u001b[0m\u001b[1;33m\u001b[0m\u001b[1;33m\u001b[0m\u001b[0m\n\u001b[0;32m    847\u001b[0m             )\n\u001b[1;32m--> 848\u001b[1;33m         return self._input_request(str(prompt),\n\u001b[0m\u001b[0;32m    849\u001b[0m             \u001b[0mself\u001b[0m\u001b[1;33m.\u001b[0m\u001b[0m_parent_ident\u001b[0m\u001b[1;33m,\u001b[0m\u001b[1;33m\u001b[0m\u001b[1;33m\u001b[0m\u001b[0m\n\u001b[0;32m    850\u001b[0m             \u001b[0mself\u001b[0m\u001b[1;33m.\u001b[0m\u001b[0m_parent_header\u001b[0m\u001b[1;33m,\u001b[0m\u001b[1;33m\u001b[0m\u001b[1;33m\u001b[0m\u001b[0m\n",
      "\u001b[1;32m~\\anaconda3\\lib\\site-packages\\ipykernel\\kernelbase.py\u001b[0m in \u001b[0;36m_input_request\u001b[1;34m(self, prompt, ident, parent, password)\u001b[0m\n\u001b[0;32m    890\u001b[0m             \u001b[1;32mexcept\u001b[0m \u001b[0mKeyboardInterrupt\u001b[0m\u001b[1;33m:\u001b[0m\u001b[1;33m\u001b[0m\u001b[1;33m\u001b[0m\u001b[0m\n\u001b[0;32m    891\u001b[0m                 \u001b[1;31m# re-raise KeyboardInterrupt, to truncate traceback\u001b[0m\u001b[1;33m\u001b[0m\u001b[1;33m\u001b[0m\u001b[0m\n\u001b[1;32m--> 892\u001b[1;33m                 \u001b[1;32mraise\u001b[0m \u001b[0mKeyboardInterrupt\u001b[0m\u001b[1;33m(\u001b[0m\u001b[1;34m\"Interrupted by user\"\u001b[0m\u001b[1;33m)\u001b[0m \u001b[1;32mfrom\u001b[0m \u001b[1;32mNone\u001b[0m\u001b[1;33m\u001b[0m\u001b[1;33m\u001b[0m\u001b[0m\n\u001b[0m\u001b[0;32m    893\u001b[0m             \u001b[1;32mexcept\u001b[0m \u001b[0mException\u001b[0m \u001b[1;32mas\u001b[0m \u001b[0me\u001b[0m\u001b[1;33m:\u001b[0m\u001b[1;33m\u001b[0m\u001b[1;33m\u001b[0m\u001b[0m\n\u001b[0;32m    894\u001b[0m                 \u001b[0mself\u001b[0m\u001b[1;33m.\u001b[0m\u001b[0mlog\u001b[0m\u001b[1;33m.\u001b[0m\u001b[0mwarning\u001b[0m\u001b[1;33m(\u001b[0m\u001b[1;34m\"Invalid Message:\"\u001b[0m\u001b[1;33m,\u001b[0m \u001b[0mexc_info\u001b[0m\u001b[1;33m=\u001b[0m\u001b[1;32mTrue\u001b[0m\u001b[1;33m)\u001b[0m\u001b[1;33m\u001b[0m\u001b[1;33m\u001b[0m\u001b[0m\n",
      "\u001b[1;31mKeyboardInterrupt\u001b[0m: Interrupted by user"
     ]
    }
   ],
   "source": [
    "# Function to get a player's action from the input\n",
    "def get_player_action(player, valid_moves, action_queue):\n",
    "    try:\n",
    "        print(f\"Player {player}'s turn: \", end=\"\", flush=True)\n",
    "        action = input()\n",
    "        if action:\n",
    "            action = int(action)\n",
    "            if action in valid_moves:\n",
    "                action_queue.append(action)\n",
    "    except ValueError:\n",
    "        print(\"Invalid input, please enter a number.\")\n",
    "\n",
    "# Function for AI to make a move using MCTS\n",
    "def get_ai_action(mcts, state):\n",
    "    mcts_probs = mcts.search(state)\n",
    "    action = np.argmax(mcts_probs)\n",
    "    return action\n",
    "\n",
    "# Choose the dimension of the board\n",
    "print(\"Choose the dimension of the board: 7 - 7*7 or 9 - 9*9\") \n",
    "dimension = int(input())\n",
    "if dimension not in [7, 9]:\n",
    "    print(\"Select a valid dimension\")\n",
    "    # Exit or restart the loop\n",
    "else:\n",
    "    game = GoGame(dimension)\n",
    "    state = game.get_initial_state()\n",
    "    \n",
    "    # MCTS arguments\n",
    "    args = {\n",
    "        'C': 2,  # Exploration constant\n",
    "        'num_searches': 10  # Number of searches per move\n",
    "    }\n",
    "    device = torch.device(\"cuda\" if torch.cuda.is_available() else \"cpu\") # Check if GPU is available\n",
    "\n",
    "    # Initialize MCTS for the AI player\n",
    "    model = ResNet(game, 4, 64, device)\n",
    "    model.eval()\n",
    "    mcts = MCTS(game, args, -1, model)  # Assuming AI is player -1\n",
    "\n",
    "    player = 1  # Human player starts\n",
    "\n",
    "    # Game loop\n",
    "    while True:\n",
    "        print(\"Board State:\")\n",
    "        print(state)\n",
    "        valid_moves = game.get_valid_moves(state, player)\n",
    "        print(\"valid moves\", valid_moves)\n",
    "\n",
    "        if player == 1:  # Human player\n",
    "            action_queue = []\n",
    "            get_player_action(player, valid_moves, action_queue)\n",
    "            action = action_queue.pop(0) if action_queue else 81  # Default to pass if no input\n",
    "\n",
    "        else:  # AI player\n",
    "            action = get_ai_action(mcts, state)\n",
    "\n",
    "        # Update the game state\n",
    "        state = game.get_next_state(state, action, player)\n",
    "        value, winner, is_terminal = game.get_value_and_terminated(state, action, player)\n",
    "\n",
    "        if is_terminal:\n",
    "            print(state)\n",
    "            if value == 1:\n",
    "                print(winner, \"won\")\n",
    "            else:\n",
    "                print(\"draw\")\n",
    "            break\n",
    "\n",
    "        player = -player  # Switch players\n"
   ]
  },
  {
   "cell_type": "code",
   "execution_count": 22,
   "id": "45c5937c",
   "metadata": {},
   "outputs": [
    {
     "name": "stdout",
     "output_type": "stream",
     "text": [
      "Initialized MCTS\n",
      "valid moves [0, 1, 2, 3, 4, 5, 6, 7, 8, 9, 10, 11, 12, 13, 14, 15, 16, 17, 18, 19, 20, 21, 22, 23, 24, 25, 26, 27, 28, 29, 30, 31, 32, 33, 34, 35, 36, 37, 38, 39, 40, 41, 42, 43, 44, 45, 46, 47, 48, 49, 50, 51, 52, 53, 54, 55, 56, 57, 58, 59, 60, 61, 62, 63, 64, 65, 66, 67, 68, 69, 70, 71, 72, 73, 74, 75, 76, 77, 78, 79, 80, 81]\n",
      "If you would like to pass, select 81 otherwise choose the cell you want\n"
     ]
    },
    {
     "ename": "KeyboardInterrupt",
     "evalue": "Interrupted by user",
     "output_type": "error",
     "traceback": [
      "\u001b[1;31m---------------------------------------------------------------------------\u001b[0m",
      "\u001b[1;31mKeyboardInterrupt\u001b[0m                         Traceback (most recent call last)",
      "\u001b[1;32m<ipython-input-22-e76873686be9>\u001b[0m in \u001b[0;36m<module>\u001b[1;34m\u001b[0m\n\u001b[0;32m     25\u001b[0m \u001b[1;33m\u001b[0m\u001b[0m\n\u001b[0;32m     26\u001b[0m         \u001b[0mprint\u001b[0m\u001b[1;33m(\u001b[0m\u001b[1;34m\"If you would like to pass, select 81 otherwise choose the cell you want\"\u001b[0m\u001b[1;33m)\u001b[0m\u001b[1;33m\u001b[0m\u001b[1;33m\u001b[0m\u001b[0m\n\u001b[1;32m---> 27\u001b[1;33m         \u001b[0maction\u001b[0m \u001b[1;33m=\u001b[0m \u001b[0mint\u001b[0m\u001b[1;33m(\u001b[0m\u001b[0minput\u001b[0m\u001b[1;33m(\u001b[0m\u001b[1;34mf\"Player {player}: \"\u001b[0m\u001b[1;33m)\u001b[0m\u001b[1;33m)\u001b[0m  \u001b[1;31m# Get player's action\u001b[0m\u001b[1;33m\u001b[0m\u001b[1;33m\u001b[0m\u001b[0m\n\u001b[0m\u001b[0;32m     28\u001b[0m \u001b[1;33m\u001b[0m\u001b[0m\n\u001b[0;32m     29\u001b[0m         \u001b[1;32mif\u001b[0m \u001b[0maction\u001b[0m \u001b[1;32min\u001b[0m \u001b[0mvalid_moves\u001b[0m\u001b[1;33m:\u001b[0m  \u001b[1;31m# Check if the action is valid\u001b[0m\u001b[1;33m\u001b[0m\u001b[1;33m\u001b[0m\u001b[0m\n",
      "\u001b[1;32m~\\anaconda3\\lib\\site-packages\\ipykernel\\kernelbase.py\u001b[0m in \u001b[0;36mraw_input\u001b[1;34m(self, prompt)\u001b[0m\n\u001b[0;32m    846\u001b[0m                 \u001b[1;34m\"raw_input was called, but this frontend does not support input requests.\"\u001b[0m\u001b[1;33m\u001b[0m\u001b[1;33m\u001b[0m\u001b[0m\n\u001b[0;32m    847\u001b[0m             )\n\u001b[1;32m--> 848\u001b[1;33m         return self._input_request(str(prompt),\n\u001b[0m\u001b[0;32m    849\u001b[0m             \u001b[0mself\u001b[0m\u001b[1;33m.\u001b[0m\u001b[0m_parent_ident\u001b[0m\u001b[1;33m,\u001b[0m\u001b[1;33m\u001b[0m\u001b[1;33m\u001b[0m\u001b[0m\n\u001b[0;32m    850\u001b[0m             \u001b[0mself\u001b[0m\u001b[1;33m.\u001b[0m\u001b[0m_parent_header\u001b[0m\u001b[1;33m,\u001b[0m\u001b[1;33m\u001b[0m\u001b[1;33m\u001b[0m\u001b[0m\n",
      "\u001b[1;32m~\\anaconda3\\lib\\site-packages\\ipykernel\\kernelbase.py\u001b[0m in \u001b[0;36m_input_request\u001b[1;34m(self, prompt, ident, parent, password)\u001b[0m\n\u001b[0;32m    890\u001b[0m             \u001b[1;32mexcept\u001b[0m \u001b[0mKeyboardInterrupt\u001b[0m\u001b[1;33m:\u001b[0m\u001b[1;33m\u001b[0m\u001b[1;33m\u001b[0m\u001b[0m\n\u001b[0;32m    891\u001b[0m                 \u001b[1;31m# re-raise KeyboardInterrupt, to truncate traceback\u001b[0m\u001b[1;33m\u001b[0m\u001b[1;33m\u001b[0m\u001b[0m\n\u001b[1;32m--> 892\u001b[1;33m                 \u001b[1;32mraise\u001b[0m \u001b[0mKeyboardInterrupt\u001b[0m\u001b[1;33m(\u001b[0m\u001b[1;34m\"Interrupted by user\"\u001b[0m\u001b[1;33m)\u001b[0m \u001b[1;32mfrom\u001b[0m \u001b[1;32mNone\u001b[0m\u001b[1;33m\u001b[0m\u001b[1;33m\u001b[0m\u001b[0m\n\u001b[0m\u001b[0;32m    893\u001b[0m             \u001b[1;32mexcept\u001b[0m \u001b[0mException\u001b[0m \u001b[1;32mas\u001b[0m \u001b[0me\u001b[0m\u001b[1;33m:\u001b[0m\u001b[1;33m\u001b[0m\u001b[1;33m\u001b[0m\u001b[0m\n\u001b[0;32m    894\u001b[0m                 \u001b[0mself\u001b[0m\u001b[1;33m.\u001b[0m\u001b[0mlog\u001b[0m\u001b[1;33m.\u001b[0m\u001b[0mwarning\u001b[0m\u001b[1;33m(\u001b[0m\u001b[1;34m\"Invalid Message:\"\u001b[0m\u001b[1;33m,\u001b[0m \u001b[0mexc_info\u001b[0m\u001b[1;33m=\u001b[0m\u001b[1;32mTrue\u001b[0m\u001b[1;33m)\u001b[0m\u001b[1;33m\u001b[0m\u001b[1;33m\u001b[0m\u001b[0m\n",
      "\u001b[1;31mKeyboardInterrupt\u001b[0m: Interrupted by user"
     ]
    }
   ],
   "source": [
    "## game = GoGame(9) # 9 - dimension\n",
    "\n",
    "player = 1 # Player to start the game\n",
    "state = game.get_initial_state() # Get the initial state\n",
    "\n",
    "args = {\n",
    "    'C' : 2,  # Exploration constant for the UCT formula\n",
    "    'num_searches': 10 # Number of searches to run for each move\n",
    "}\n",
    "\n",
    "device = torch.device(\"cuda\" if torch.cuda.is_available() else \"cpu\") # Check if GPU is available\n",
    "\n",
    "model = ResNet(game, 4, 64, device) # Initialize the model with the same parameters used in training (4 residual blocks, 64 filters)\n",
    "model.eval() # Set the model to evaluation mode\n",
    "mcts = MCTS(game, args, -1, model) # Initialize the MCTS\n",
    "\n",
    "# Main loop for the game\n",
    "while True:\n",
    "    game.reset_time() # Reset the game time\n",
    "    \n",
    "    if player == 1: # Check if it's the player's turn    \n",
    "         \n",
    "        valid_moves = game.get_valid_moves(state, player)  # Get valid moves\n",
    "        print(\"valid moves\", valid_moves)\n",
    "\n",
    "        print(\"If you would like to pass, select 81 otherwise choose the cell you want\")\n",
    "        action = int(input(f\"Player {player}: \"))  # Get player's action\n",
    "\n",
    "        if action in valid_moves:  # Check if the action is valid\n",
    "            state = game.get_next_state(state, action, player)  # Update the state\n",
    "            print(\"Board State after your move:\")\n",
    "            print(state)\n",
    "        else:\n",
    "            print(\"Invalid move, please select a valid move\")\n",
    "            continue  # Skip the rest of the loop and prompt for move again\n",
    "            \n",
    "\n",
    "    else: # AI's turn\n",
    "        neutral_state = game.change_perspective(state, player) # Change the perspective of the state\n",
    "\n",
    "        mcts_probs = mcts.search(neutral_state) # Get the MCTS probabilities\n",
    "        action = np.argmax(mcts_probs) # Get the action with the highest probability\n",
    "\n",
    "        state = game.get_next_state(state, action, player) # Update the state\n",
    "     \n",
    "    print(\"Board State:\") \n",
    "    print(state) # Print the current state\n",
    "    value, winner, is_terminal = game.get_value_and_terminated(state, action, player) # Check if the game has ended\n",
    "    \n",
    "    if action == 81: # Check if the player passed\n",
    "        game.pass_count += 1 # Increment the number of consecutive passes\n",
    "\n",
    "    if is_terminal: # Check if the game has ended\n",
    "        if value == 1: # Check if someone won\n",
    "            print(winner, \"won\") # Print a message to notify the player\n",
    "        else: # It's a draw\n",
    "            print(\"draw\") # Print a message to notify the player\n",
    "        break\n",
    "    \n",
    "    player = -player # Switch players"
   ]
  },
  {
   "cell_type": "markdown",
   "id": "aceb5810-4519-45d1-b850-f342529f16be",
   "metadata": {
    "jp-MarkdownHeadingCollapsed": true
   },
   "source": [
    "### To train with the AlphaZero"
   ]
  },
  {
   "cell_type": "markdown",
   "id": "11fbac0c-cef9-4440-9f8f-102e18bd6787",
   "metadata": {
    "jp-MarkdownHeadingCollapsed": true
   },
   "source": [
    "##### Board Dimension = 7"
   ]
  },
  {
   "cell_type": "code",
   "execution_count": 10,
   "id": "59d08b1c-1f34-47c1-8436-e422fdeeabe9",
   "metadata": {
    "scrolled": true
   },
   "outputs": [
    {
     "name": "stdout",
     "output_type": "stream",
     "text": [
      "Initialized MCTS\n"
     ]
    },
    {
     "data": {
      "application/vnd.jupyter.widget-view+json": {
       "model_id": "e7c531825f894bc392e522d81b8ca725",
       "version_major": 2,
       "version_minor": 0
      },
      "text/plain": [
       "  0%|          | 0/20 [00:00<?, ?it/s]"
      ]
     },
     "metadata": {},
     "output_type": "display_data"
    },
    {
     "name": "stdout",
     "output_type": "stream",
     "text": [
      "Initialized MCTS\n"
     ]
    },
    {
     "ename": "RuntimeError",
     "evalue": "mat1 and mat2 shapes cannot be multiplied (1x2592 and 1568x50)",
     "output_type": "error",
     "traceback": [
      "\u001b[1;31m---------------------------------------------------------------------------\u001b[0m",
      "\u001b[1;31mRuntimeError\u001b[0m                              Traceback (most recent call last)",
      "Cell \u001b[1;32mIn[10], line 30\u001b[0m\n\u001b[0;32m     18\u001b[0m args \u001b[38;5;241m=\u001b[39m { \n\u001b[0;32m     19\u001b[0m     \u001b[38;5;124m'\u001b[39m\u001b[38;5;124mC\u001b[39m\u001b[38;5;124m'\u001b[39m: \u001b[38;5;241m2\u001b[39m, \u001b[38;5;66;03m# Exploration constant for the UCT formula\u001b[39;00m\n\u001b[0;32m     20\u001b[0m     \u001b[38;5;124m'\u001b[39m\u001b[38;5;124mnum_searches\u001b[39m\u001b[38;5;124m'\u001b[39m: \u001b[38;5;241m3\u001b[39m, \u001b[38;5;66;03m# Number of searches to run for each move\u001b[39;00m\n\u001b[1;32m   (...)\u001b[0m\n\u001b[0;32m     26\u001b[0m     \u001b[38;5;124m'\u001b[39m\u001b[38;5;124malpha\u001b[39m\u001b[38;5;124m'\u001b[39m: \u001b[38;5;241m0.3\u001b[39m \u001b[38;5;66;03m# Weight of the value loss in the total loss\u001b[39;00m\n\u001b[0;32m     27\u001b[0m }\n\u001b[0;32m     29\u001b[0m alphaZero \u001b[38;5;241m=\u001b[39m AlphaZero(model, optimizer, game, args) \u001b[38;5;66;03m# Initialize the AlphaZero object\u001b[39;00m\n\u001b[1;32m---> 30\u001b[0m alphaZero\u001b[38;5;241m.\u001b[39mlearn()\n",
      "File \u001b[1;32m~\\AppData\\Local\\Temp\\ipykernel_23152\\3424603522.py:165\u001b[0m, in \u001b[0;36mAlphaZero.learn\u001b[1;34m(self)\u001b[0m\n\u001b[0;32m    162\u001b[0m \u001b[38;5;28mself\u001b[39m\u001b[38;5;241m.\u001b[39mmodel\u001b[38;5;241m.\u001b[39meval() \u001b[38;5;66;03m# Set the model to evaluation mode\u001b[39;00m\n\u001b[0;32m    163\u001b[0m \u001b[38;5;28;01mfor\u001b[39;00m _ \u001b[38;5;129;01min\u001b[39;00m trange(\u001b[38;5;28mself\u001b[39m\u001b[38;5;241m.\u001b[39margs[\u001b[38;5;124m'\u001b[39m\u001b[38;5;124mnum_selfPlay_iterations\u001b[39m\u001b[38;5;124m'\u001b[39m]): \u001b[38;5;66;03m# For each iteration of self-play\u001b[39;00m\n\u001b[1;32m--> 165\u001b[0m     game_memory, game_outcome, game_length, top_move_ratio \u001b[38;5;241m=\u001b[39m \u001b[38;5;28mself\u001b[39m\u001b[38;5;241m.\u001b[39mselfPlay() \u001b[38;5;66;03m# Play a game of self-play\u001b[39;00m\n\u001b[0;32m    166\u001b[0m     memory \u001b[38;5;241m+\u001b[39m\u001b[38;5;241m=\u001b[39m game_memory \u001b[38;5;66;03m# Append the game memory to the memory list\u001b[39;00m\n\u001b[0;32m    167\u001b[0m     outcomes\u001b[38;5;241m.\u001b[39mappend(game_outcome) \u001b[38;5;66;03m# Append the outcome of the game\u001b[39;00m\n",
      "File \u001b[1;32m~\\AppData\\Local\\Temp\\ipykernel_23152\\3424603522.py:39\u001b[0m, in \u001b[0;36mAlphaZero.selfPlay\u001b[1;34m(self)\u001b[0m\n\u001b[0;32m     37\u001b[0m \u001b[38;5;28;01mwhile\u001b[39;00m \u001b[38;5;28;01mTrue\u001b[39;00m:\n\u001b[0;32m     38\u001b[0m     neutral_state \u001b[38;5;241m=\u001b[39m \u001b[38;5;28mself\u001b[39m\u001b[38;5;241m.\u001b[39mgame\u001b[38;5;241m.\u001b[39mchange_perspective(state, player)\n\u001b[1;32m---> 39\u001b[0m     action_probs \u001b[38;5;241m=\u001b[39m \u001b[38;5;28mself\u001b[39m\u001b[38;5;241m.\u001b[39mmcts\u001b[38;5;241m.\u001b[39msearch(neutral_state)\n\u001b[0;32m     41\u001b[0m     valid_moves \u001b[38;5;241m=\u001b[39m \u001b[38;5;28mself\u001b[39m\u001b[38;5;241m.\u001b[39mgame\u001b[38;5;241m.\u001b[39mget_valid_moves(state, player)\n\u001b[0;32m     42\u001b[0m     action_probs \u001b[38;5;241m=\u001b[39m [prob \u001b[38;5;28;01mif\u001b[39;00m index \u001b[38;5;129;01min\u001b[39;00m valid_moves \u001b[38;5;28;01melse\u001b[39;00m \u001b[38;5;241m0\u001b[39m \u001b[38;5;28;01mfor\u001b[39;00m index, prob \u001b[38;5;129;01min\u001b[39;00m \u001b[38;5;28menumerate\u001b[39m(action_probs)]\n",
      "File \u001b[1;32m~\\anaconda3\\Lib\\site-packages\\torch\\utils\\_contextlib.py:115\u001b[0m, in \u001b[0;36mcontext_decorator.<locals>.decorate_context\u001b[1;34m(*args, **kwargs)\u001b[0m\n\u001b[0;32m    112\u001b[0m \u001b[38;5;129m@functools\u001b[39m\u001b[38;5;241m.\u001b[39mwraps(func)\n\u001b[0;32m    113\u001b[0m \u001b[38;5;28;01mdef\u001b[39;00m \u001b[38;5;21mdecorate_context\u001b[39m(\u001b[38;5;241m*\u001b[39margs, \u001b[38;5;241m*\u001b[39m\u001b[38;5;241m*\u001b[39mkwargs):\n\u001b[0;32m    114\u001b[0m     \u001b[38;5;28;01mwith\u001b[39;00m ctx_factory():\n\u001b[1;32m--> 115\u001b[0m         \u001b[38;5;28;01mreturn\u001b[39;00m func(\u001b[38;5;241m*\u001b[39margs, \u001b[38;5;241m*\u001b[39m\u001b[38;5;241m*\u001b[39mkwargs)\n",
      "File \u001b[1;32m~\\AppData\\Local\\Temp\\ipykernel_23152\\2068707938.py:130\u001b[0m, in \u001b[0;36mMCTS.search\u001b[1;34m(self, state)\u001b[0m\n\u001b[0;32m    127\u001b[0m \u001b[38;5;66;03m# Check if the node is terminate and backpropagate immediately if not we expand and simulate\u001b[39;00m\n\u001b[0;32m    128\u001b[0m \u001b[38;5;28;01mif\u001b[39;00m \u001b[38;5;129;01mnot\u001b[39;00m is_terminal: \n\u001b[0;32m    129\u001b[0m     \u001b[38;5;66;03m# Expansion phase\u001b[39;00m\n\u001b[1;32m--> 130\u001b[0m     policy, value \u001b[38;5;241m=\u001b[39m \u001b[38;5;28mself\u001b[39m\u001b[38;5;241m.\u001b[39mmodel(\n\u001b[0;32m    131\u001b[0m         torch\u001b[38;5;241m.\u001b[39mtensor(\u001b[38;5;28mself\u001b[39m\u001b[38;5;241m.\u001b[39mgame\u001b[38;5;241m.\u001b[39mget_encoded_state(node\u001b[38;5;241m.\u001b[39mstate))\u001b[38;5;241m.\u001b[39munsqueeze(\u001b[38;5;241m0\u001b[39m) \u001b[38;5;66;03m# Unsqueeze to add a batch dimension\u001b[39;00m\n\u001b[0;32m    132\u001b[0m     )\n\u001b[0;32m    133\u001b[0m     \u001b[38;5;66;03m# Expand the node with the policy and simulate\u001b[39;00m\n\u001b[0;32m    134\u001b[0m     policy \u001b[38;5;241m=\u001b[39m torch\u001b[38;5;241m.\u001b[39msoftmax(policy, axis\u001b[38;5;241m=\u001b[39m\u001b[38;5;241m1\u001b[39m)\u001b[38;5;241m.\u001b[39msqueeze(\u001b[38;5;241m0\u001b[39m)\u001b[38;5;241m.\u001b[39mcpu()\u001b[38;5;241m.\u001b[39mnumpy() \u001b[38;5;66;03m# Softmax the policy and convert it to a numpy array\u001b[39;00m\n",
      "File \u001b[1;32m~\\anaconda3\\Lib\\site-packages\\torch\\nn\\modules\\module.py:1518\u001b[0m, in \u001b[0;36mModule._wrapped_call_impl\u001b[1;34m(self, *args, **kwargs)\u001b[0m\n\u001b[0;32m   1516\u001b[0m     \u001b[38;5;28;01mreturn\u001b[39;00m \u001b[38;5;28mself\u001b[39m\u001b[38;5;241m.\u001b[39m_compiled_call_impl(\u001b[38;5;241m*\u001b[39margs, \u001b[38;5;241m*\u001b[39m\u001b[38;5;241m*\u001b[39mkwargs)  \u001b[38;5;66;03m# type: ignore[misc]\u001b[39;00m\n\u001b[0;32m   1517\u001b[0m \u001b[38;5;28;01melse\u001b[39;00m:\n\u001b[1;32m-> 1518\u001b[0m     \u001b[38;5;28;01mreturn\u001b[39;00m \u001b[38;5;28mself\u001b[39m\u001b[38;5;241m.\u001b[39m_call_impl(\u001b[38;5;241m*\u001b[39margs, \u001b[38;5;241m*\u001b[39m\u001b[38;5;241m*\u001b[39mkwargs)\n",
      "File \u001b[1;32m~\\anaconda3\\Lib\\site-packages\\torch\\nn\\modules\\module.py:1527\u001b[0m, in \u001b[0;36mModule._call_impl\u001b[1;34m(self, *args, **kwargs)\u001b[0m\n\u001b[0;32m   1522\u001b[0m \u001b[38;5;66;03m# If we don't have any hooks, we want to skip the rest of the logic in\u001b[39;00m\n\u001b[0;32m   1523\u001b[0m \u001b[38;5;66;03m# this function, and just call forward.\u001b[39;00m\n\u001b[0;32m   1524\u001b[0m \u001b[38;5;28;01mif\u001b[39;00m \u001b[38;5;129;01mnot\u001b[39;00m (\u001b[38;5;28mself\u001b[39m\u001b[38;5;241m.\u001b[39m_backward_hooks \u001b[38;5;129;01mor\u001b[39;00m \u001b[38;5;28mself\u001b[39m\u001b[38;5;241m.\u001b[39m_backward_pre_hooks \u001b[38;5;129;01mor\u001b[39;00m \u001b[38;5;28mself\u001b[39m\u001b[38;5;241m.\u001b[39m_forward_hooks \u001b[38;5;129;01mor\u001b[39;00m \u001b[38;5;28mself\u001b[39m\u001b[38;5;241m.\u001b[39m_forward_pre_hooks\n\u001b[0;32m   1525\u001b[0m         \u001b[38;5;129;01mor\u001b[39;00m _global_backward_pre_hooks \u001b[38;5;129;01mor\u001b[39;00m _global_backward_hooks\n\u001b[0;32m   1526\u001b[0m         \u001b[38;5;129;01mor\u001b[39;00m _global_forward_hooks \u001b[38;5;129;01mor\u001b[39;00m _global_forward_pre_hooks):\n\u001b[1;32m-> 1527\u001b[0m     \u001b[38;5;28;01mreturn\u001b[39;00m forward_call(\u001b[38;5;241m*\u001b[39margs, \u001b[38;5;241m*\u001b[39m\u001b[38;5;241m*\u001b[39mkwargs)\n\u001b[0;32m   1529\u001b[0m \u001b[38;5;28;01mtry\u001b[39;00m:\n\u001b[0;32m   1530\u001b[0m     result \u001b[38;5;241m=\u001b[39m \u001b[38;5;28;01mNone\u001b[39;00m\n",
      "File \u001b[1;32m~\\AppData\\Local\\Temp\\ipykernel_23152\\2835086749.py:48\u001b[0m, in \u001b[0;36mResNet.forward\u001b[1;34m(self, x)\u001b[0m\n\u001b[0;32m     46\u001b[0m \u001b[38;5;28;01mfor\u001b[39;00m resBlock \u001b[38;5;129;01min\u001b[39;00m \u001b[38;5;28mself\u001b[39m\u001b[38;5;241m.\u001b[39mbackBone: \n\u001b[0;32m     47\u001b[0m     x \u001b[38;5;241m=\u001b[39m resBlock(x) \n\u001b[1;32m---> 48\u001b[0m policy_logits \u001b[38;5;241m=\u001b[39m \u001b[38;5;28mself\u001b[39m\u001b[38;5;241m.\u001b[39mpolicyHead(x) \u001b[38;5;66;03m# Raw policy logits\u001b[39;00m\n\u001b[0;32m     49\u001b[0m value \u001b[38;5;241m=\u001b[39m \u001b[38;5;28mself\u001b[39m\u001b[38;5;241m.\u001b[39mvalueHead(x) \u001b[38;5;66;03m# Value head for predicting the state value\u001b[39;00m\n\u001b[0;32m     51\u001b[0m \u001b[38;5;66;03m# Normalize policy logits to probabilities\u001b[39;00m\n",
      "File \u001b[1;32m~\\anaconda3\\Lib\\site-packages\\torch\\nn\\modules\\module.py:1518\u001b[0m, in \u001b[0;36mModule._wrapped_call_impl\u001b[1;34m(self, *args, **kwargs)\u001b[0m\n\u001b[0;32m   1516\u001b[0m     \u001b[38;5;28;01mreturn\u001b[39;00m \u001b[38;5;28mself\u001b[39m\u001b[38;5;241m.\u001b[39m_compiled_call_impl(\u001b[38;5;241m*\u001b[39margs, \u001b[38;5;241m*\u001b[39m\u001b[38;5;241m*\u001b[39mkwargs)  \u001b[38;5;66;03m# type: ignore[misc]\u001b[39;00m\n\u001b[0;32m   1517\u001b[0m \u001b[38;5;28;01melse\u001b[39;00m:\n\u001b[1;32m-> 1518\u001b[0m     \u001b[38;5;28;01mreturn\u001b[39;00m \u001b[38;5;28mself\u001b[39m\u001b[38;5;241m.\u001b[39m_call_impl(\u001b[38;5;241m*\u001b[39margs, \u001b[38;5;241m*\u001b[39m\u001b[38;5;241m*\u001b[39mkwargs)\n",
      "File \u001b[1;32m~\\anaconda3\\Lib\\site-packages\\torch\\nn\\modules\\module.py:1527\u001b[0m, in \u001b[0;36mModule._call_impl\u001b[1;34m(self, *args, **kwargs)\u001b[0m\n\u001b[0;32m   1522\u001b[0m \u001b[38;5;66;03m# If we don't have any hooks, we want to skip the rest of the logic in\u001b[39;00m\n\u001b[0;32m   1523\u001b[0m \u001b[38;5;66;03m# this function, and just call forward.\u001b[39;00m\n\u001b[0;32m   1524\u001b[0m \u001b[38;5;28;01mif\u001b[39;00m \u001b[38;5;129;01mnot\u001b[39;00m (\u001b[38;5;28mself\u001b[39m\u001b[38;5;241m.\u001b[39m_backward_hooks \u001b[38;5;129;01mor\u001b[39;00m \u001b[38;5;28mself\u001b[39m\u001b[38;5;241m.\u001b[39m_backward_pre_hooks \u001b[38;5;129;01mor\u001b[39;00m \u001b[38;5;28mself\u001b[39m\u001b[38;5;241m.\u001b[39m_forward_hooks \u001b[38;5;129;01mor\u001b[39;00m \u001b[38;5;28mself\u001b[39m\u001b[38;5;241m.\u001b[39m_forward_pre_hooks\n\u001b[0;32m   1525\u001b[0m         \u001b[38;5;129;01mor\u001b[39;00m _global_backward_pre_hooks \u001b[38;5;129;01mor\u001b[39;00m _global_backward_hooks\n\u001b[0;32m   1526\u001b[0m         \u001b[38;5;129;01mor\u001b[39;00m _global_forward_hooks \u001b[38;5;129;01mor\u001b[39;00m _global_forward_pre_hooks):\n\u001b[1;32m-> 1527\u001b[0m     \u001b[38;5;28;01mreturn\u001b[39;00m forward_call(\u001b[38;5;241m*\u001b[39margs, \u001b[38;5;241m*\u001b[39m\u001b[38;5;241m*\u001b[39mkwargs)\n\u001b[0;32m   1529\u001b[0m \u001b[38;5;28;01mtry\u001b[39;00m:\n\u001b[0;32m   1530\u001b[0m     result \u001b[38;5;241m=\u001b[39m \u001b[38;5;28;01mNone\u001b[39;00m\n",
      "File \u001b[1;32m~\\anaconda3\\Lib\\site-packages\\torch\\nn\\modules\\container.py:215\u001b[0m, in \u001b[0;36mSequential.forward\u001b[1;34m(self, input)\u001b[0m\n\u001b[0;32m    213\u001b[0m \u001b[38;5;28;01mdef\u001b[39;00m \u001b[38;5;21mforward\u001b[39m(\u001b[38;5;28mself\u001b[39m, \u001b[38;5;28minput\u001b[39m):\n\u001b[0;32m    214\u001b[0m     \u001b[38;5;28;01mfor\u001b[39;00m module \u001b[38;5;129;01min\u001b[39;00m \u001b[38;5;28mself\u001b[39m:\n\u001b[1;32m--> 215\u001b[0m         \u001b[38;5;28minput\u001b[39m \u001b[38;5;241m=\u001b[39m module(\u001b[38;5;28minput\u001b[39m)\n\u001b[0;32m    216\u001b[0m     \u001b[38;5;28;01mreturn\u001b[39;00m \u001b[38;5;28minput\u001b[39m\n",
      "File \u001b[1;32m~\\anaconda3\\Lib\\site-packages\\torch\\nn\\modules\\module.py:1518\u001b[0m, in \u001b[0;36mModule._wrapped_call_impl\u001b[1;34m(self, *args, **kwargs)\u001b[0m\n\u001b[0;32m   1516\u001b[0m     \u001b[38;5;28;01mreturn\u001b[39;00m \u001b[38;5;28mself\u001b[39m\u001b[38;5;241m.\u001b[39m_compiled_call_impl(\u001b[38;5;241m*\u001b[39margs, \u001b[38;5;241m*\u001b[39m\u001b[38;5;241m*\u001b[39mkwargs)  \u001b[38;5;66;03m# type: ignore[misc]\u001b[39;00m\n\u001b[0;32m   1517\u001b[0m \u001b[38;5;28;01melse\u001b[39;00m:\n\u001b[1;32m-> 1518\u001b[0m     \u001b[38;5;28;01mreturn\u001b[39;00m \u001b[38;5;28mself\u001b[39m\u001b[38;5;241m.\u001b[39m_call_impl(\u001b[38;5;241m*\u001b[39margs, \u001b[38;5;241m*\u001b[39m\u001b[38;5;241m*\u001b[39mkwargs)\n",
      "File \u001b[1;32m~\\anaconda3\\Lib\\site-packages\\torch\\nn\\modules\\module.py:1527\u001b[0m, in \u001b[0;36mModule._call_impl\u001b[1;34m(self, *args, **kwargs)\u001b[0m\n\u001b[0;32m   1522\u001b[0m \u001b[38;5;66;03m# If we don't have any hooks, we want to skip the rest of the logic in\u001b[39;00m\n\u001b[0;32m   1523\u001b[0m \u001b[38;5;66;03m# this function, and just call forward.\u001b[39;00m\n\u001b[0;32m   1524\u001b[0m \u001b[38;5;28;01mif\u001b[39;00m \u001b[38;5;129;01mnot\u001b[39;00m (\u001b[38;5;28mself\u001b[39m\u001b[38;5;241m.\u001b[39m_backward_hooks \u001b[38;5;129;01mor\u001b[39;00m \u001b[38;5;28mself\u001b[39m\u001b[38;5;241m.\u001b[39m_backward_pre_hooks \u001b[38;5;129;01mor\u001b[39;00m \u001b[38;5;28mself\u001b[39m\u001b[38;5;241m.\u001b[39m_forward_hooks \u001b[38;5;129;01mor\u001b[39;00m \u001b[38;5;28mself\u001b[39m\u001b[38;5;241m.\u001b[39m_forward_pre_hooks\n\u001b[0;32m   1525\u001b[0m         \u001b[38;5;129;01mor\u001b[39;00m _global_backward_pre_hooks \u001b[38;5;129;01mor\u001b[39;00m _global_backward_hooks\n\u001b[0;32m   1526\u001b[0m         \u001b[38;5;129;01mor\u001b[39;00m _global_forward_hooks \u001b[38;5;129;01mor\u001b[39;00m _global_forward_pre_hooks):\n\u001b[1;32m-> 1527\u001b[0m     \u001b[38;5;28;01mreturn\u001b[39;00m forward_call(\u001b[38;5;241m*\u001b[39margs, \u001b[38;5;241m*\u001b[39m\u001b[38;5;241m*\u001b[39mkwargs)\n\u001b[0;32m   1529\u001b[0m \u001b[38;5;28;01mtry\u001b[39;00m:\n\u001b[0;32m   1530\u001b[0m     result \u001b[38;5;241m=\u001b[39m \u001b[38;5;28;01mNone\u001b[39;00m\n",
      "File \u001b[1;32m~\\anaconda3\\Lib\\site-packages\\torch\\nn\\modules\\linear.py:114\u001b[0m, in \u001b[0;36mLinear.forward\u001b[1;34m(self, input)\u001b[0m\n\u001b[0;32m    113\u001b[0m \u001b[38;5;28;01mdef\u001b[39;00m \u001b[38;5;21mforward\u001b[39m(\u001b[38;5;28mself\u001b[39m, \u001b[38;5;28minput\u001b[39m: Tensor) \u001b[38;5;241m-\u001b[39m\u001b[38;5;241m>\u001b[39m Tensor:\n\u001b[1;32m--> 114\u001b[0m     \u001b[38;5;28;01mreturn\u001b[39;00m F\u001b[38;5;241m.\u001b[39mlinear(\u001b[38;5;28minput\u001b[39m, \u001b[38;5;28mself\u001b[39m\u001b[38;5;241m.\u001b[39mweight, \u001b[38;5;28mself\u001b[39m\u001b[38;5;241m.\u001b[39mbias)\n",
      "\u001b[1;31mRuntimeError\u001b[0m: mat1 and mat2 shapes cannot be multiplied (1x2592 and 1568x50)"
     ]
    }
   ],
   "source": [
    "game = GoGame(7) # 7 - dimension\n",
    "\n",
    "device = torch.device(\"cuda\" if torch.cuda.is_available() else \"cpu\") # Check if GPU is available\n",
    "\n",
    "state = game.get_initial_state() # Get the initial state\n",
    "\n",
    "input_size = 7 * 7 # Grid size\n",
    "hidden_size = 128 # Size of the hidden layer in the RNN\n",
    "num_layers = 2 # Number of layers in the RNN\n",
    "policy_size = game.action_size # Number of possible actions\n",
    "value_size = 1 # Size of the value output\n",
    "model = ResNet(game, 4, 64, device) # Initialize the model\n",
    "\n",
    "torch.nn.utils.clip_grad_norm_(model.parameters(), max_norm=1.0)\n",
    "optimizer = torch.optim.Adam(model.parameters(), lr=0.001, weight_decay=0.0001) # Initialize the optimizer with weight decay to prevent overfitting (L2 regularization) \n",
    "\n",
    "# Training parameters\n",
    "args = { \n",
    "    'C': 2, # Exploration constant for the UCT formula\n",
    "    'num_searches': 3, # Number of searches to run for each move\n",
    "    'num_iterations': 3, # Number of iterations to run the training loop\n",
    "    'num_selfPlay_iterations': 20, # Number of self-play games to play in each iteration\n",
    "    'num_epochs': 4, # Number of epochs to train the model\n",
    "    'batch_size': 128, # Batch size for training\n",
    "    'epsilon': 0.25, # Fraction of random moves to play during self-play\n",
    "    'alpha': 0.3 # Weight of the value loss in the total loss\n",
    "}\n",
    "\n",
    "alphaZero = AlphaZero(model, optimizer, game, args) # Initialize the AlphaZero object\n",
    "alphaZero.learn() # Run the training loop"
   ]
  },
  {
   "cell_type": "markdown",
   "id": "14472779-9101-435a-8672-592b4e9bc558",
   "metadata": {
    "jp-MarkdownHeadingCollapsed": true
   },
   "source": [
    "##### Board Dimension = 9"
   ]
  },
  {
   "cell_type": "code",
   "execution_count": 9,
   "id": "eabfc713-87d6-4c0f-a53a-4934d3fdfc61",
   "metadata": {
    "scrolled": false
   },
   "outputs": [
    {
     "name": "stdout",
     "output_type": "stream",
     "text": [
      "Initialized MCTS\n"
     ]
    },
    {
     "data": {
      "application/vnd.jupyter.widget-view+json": {
       "model_id": "b5bcbb6be53b4d4594a0e920a8cfb4f3",
       "version_major": 2,
       "version_minor": 0
      },
      "text/plain": [
       "  0%|          | 0/5 [00:00<?, ?it/s]"
      ]
     },
     "metadata": {},
     "output_type": "display_data"
    },
    {
     "name": "stdout",
     "output_type": "stream",
     "text": [
      "Initialized MCTS\n",
      "[0.0, 0.0, 0.0, 0.0, 0.0, 0.0, 0.0, 0.0, 0.0, 0.0, 0.0, 0.0, 0.0, 0.0, 0.0, 0.0, 0.0, 0.0, 0.0, 0.0, 0.0, 0.0, 0.0, 0.0, 0.0, 0.0, 0.0, 0.0, 0.0, 0.0, 0.0, 0.0, 0.0, 0.0, 0.0, 0.0, 0.0, 0.0, 0.0, 0.0, 0.0, 0.0, 0.0, 0.0, 0.0, 0.0, 0.0, 0.0, 0.0, 0.0, 0.0, 0.0, 0.0, 0.0, 0.0, 0.0, 0.0, 0.0, 0.0, 0.0, 0.0, 0.0, 0.0, 0.0, 0.0, 0.0, 0.0, 0.0, 0.0, 1.0, 0.0, 0.0, 0.0, 0.0, 0.0, 0.0, 0.0, 0.0, 0.0, 0.0, 0.0, 0.0]\n",
      "[0.0, 0.0, 0.0, 0.0, 0.0, 0.0, 0.0, 0.0, 0.0, 0.0, 0.0, 0.0, 0.0, 0.0, 0.0, 0.0, 0.0, 0.0, 0.0, 0.0, 0.0, 0.0, 0.0, 0.0, 0.0, 0.0, 0.0, 0.0, 0.0, 0.0, 0.0, 0.0, 0.0, 0.0, 0.0, 0.0, 0.0, 0.0, 0.0, 0.0, 0.0, 0.0, 0.0, 0.0, 0.0, 0.0, 0.0, 0.0, 0.0, 0.0, 0.0, 0.0, 0.0, 0.0, 0.0, 0.0, 0.0, 0.0, 0.0, 0.0, 0.0, 0.0, 0.0, 0.0, 0.0, 0.0, 0.0, 0.0, 0.0, 1.0, 0.0, 0.0, 0.0, 0.0, 0.0, 0.0, 0.0, 0.0, 0.0, 0.0, 0.0, 0.0]\n",
      "[0.0, 0.0, 0.0, 0.0, 0.0, 0.0, 0.0, 0.0, 0.0, 0.0, 0.0, 0.0, 0.0, 0.0, 0.0, 0.0, 0.0, 0.0, 0.0, 0.0, 0.0, 0.0, 0.0, 0.0, 0.0, 0.0, 0.0, 0.0, 0.0, 0.0, 0.0, 0.0, 0.0, 0.0, 1.0, 0.0, 0.0, 0.0, 0.0, 0.0, 0.0, 0.0, 0.0, 0.0, 0.0, 0.0, 0.0, 0.0, 0.0, 0.0, 0.0, 0.0, 0.0, 0.0, 0.0, 0.0, 0.0, 0.0, 0.0, 0.0, 0.0, 0.0, 0.0, 0.0, 0.0, 0.0, 0.0, 0.0, 0.0, 0.0, 0.0, 0.0, 0.0, 0.0, 0.0, 0.0, 0.0, 0.0, 0.0, 0.0, 0.0, 0.0]\n"
     ]
    },
    {
     "ename": "KeyboardInterrupt",
     "evalue": "",
     "output_type": "error",
     "traceback": [
      "\u001b[1;31m---------------------------------------------------------------------------\u001b[0m",
      "\u001b[1;31mKeyboardInterrupt\u001b[0m                         Traceback (most recent call last)",
      "Cell \u001b[1;32mIn[9], line 24\u001b[0m\n\u001b[0;32m     12\u001b[0m args \u001b[38;5;241m=\u001b[39m {\n\u001b[0;32m     13\u001b[0m     \u001b[38;5;124m'\u001b[39m\u001b[38;5;124mC\u001b[39m\u001b[38;5;124m'\u001b[39m: \u001b[38;5;241m2\u001b[39m, \u001b[38;5;66;03m# Exploration constant for the UCT formula\u001b[39;00m\n\u001b[0;32m     14\u001b[0m     \u001b[38;5;124m'\u001b[39m\u001b[38;5;124mnum_searches\u001b[39m\u001b[38;5;124m'\u001b[39m: \u001b[38;5;241m3\u001b[39m, \u001b[38;5;66;03m# Number of searches to run for each move\u001b[39;00m\n\u001b[1;32m   (...)\u001b[0m\n\u001b[0;32m     20\u001b[0m     \u001b[38;5;124m'\u001b[39m\u001b[38;5;124malpha\u001b[39m\u001b[38;5;124m'\u001b[39m: \u001b[38;5;241m0.3\u001b[39m \u001b[38;5;66;03m# Weight of the value loss in the total loss\u001b[39;00m\n\u001b[0;32m     21\u001b[0m }\n\u001b[0;32m     23\u001b[0m alphaZero \u001b[38;5;241m=\u001b[39m AlphaZero(model, optimizer, game, args) \u001b[38;5;66;03m# Initialize the AlphaZero object\u001b[39;00m\n\u001b[1;32m---> 24\u001b[0m alphaZero\u001b[38;5;241m.\u001b[39mlearn()\n",
      "File \u001b[1;32m~\\AppData\\Local\\Temp\\ipykernel_23152\\3424603522.py:165\u001b[0m, in \u001b[0;36mAlphaZero.learn\u001b[1;34m(self)\u001b[0m\n\u001b[0;32m    162\u001b[0m \u001b[38;5;28mself\u001b[39m\u001b[38;5;241m.\u001b[39mmodel\u001b[38;5;241m.\u001b[39meval() \u001b[38;5;66;03m# Set the model to evaluation mode\u001b[39;00m\n\u001b[0;32m    163\u001b[0m \u001b[38;5;28;01mfor\u001b[39;00m _ \u001b[38;5;129;01min\u001b[39;00m trange(\u001b[38;5;28mself\u001b[39m\u001b[38;5;241m.\u001b[39margs[\u001b[38;5;124m'\u001b[39m\u001b[38;5;124mnum_selfPlay_iterations\u001b[39m\u001b[38;5;124m'\u001b[39m]): \u001b[38;5;66;03m# For each iteration of self-play\u001b[39;00m\n\u001b[1;32m--> 165\u001b[0m     game_memory, game_outcome, game_length, top_move_ratio \u001b[38;5;241m=\u001b[39m \u001b[38;5;28mself\u001b[39m\u001b[38;5;241m.\u001b[39mselfPlay() \u001b[38;5;66;03m# Play a game of self-play\u001b[39;00m\n\u001b[0;32m    166\u001b[0m     memory \u001b[38;5;241m+\u001b[39m\u001b[38;5;241m=\u001b[39m game_memory \u001b[38;5;66;03m# Append the game memory to the memory list\u001b[39;00m\n\u001b[0;32m    167\u001b[0m     outcomes\u001b[38;5;241m.\u001b[39mappend(game_outcome) \u001b[38;5;66;03m# Append the outcome of the game\u001b[39;00m\n",
      "File \u001b[1;32m~\\AppData\\Local\\Temp\\ipykernel_23152\\3424603522.py:39\u001b[0m, in \u001b[0;36mAlphaZero.selfPlay\u001b[1;34m(self)\u001b[0m\n\u001b[0;32m     37\u001b[0m \u001b[38;5;28;01mwhile\u001b[39;00m \u001b[38;5;28;01mTrue\u001b[39;00m:\n\u001b[0;32m     38\u001b[0m     neutral_state \u001b[38;5;241m=\u001b[39m \u001b[38;5;28mself\u001b[39m\u001b[38;5;241m.\u001b[39mgame\u001b[38;5;241m.\u001b[39mchange_perspective(state, player)\n\u001b[1;32m---> 39\u001b[0m     action_probs \u001b[38;5;241m=\u001b[39m \u001b[38;5;28mself\u001b[39m\u001b[38;5;241m.\u001b[39mmcts\u001b[38;5;241m.\u001b[39msearch(neutral_state)\n\u001b[0;32m     41\u001b[0m     valid_moves \u001b[38;5;241m=\u001b[39m \u001b[38;5;28mself\u001b[39m\u001b[38;5;241m.\u001b[39mgame\u001b[38;5;241m.\u001b[39mget_valid_moves(state, player)\n\u001b[0;32m     42\u001b[0m     action_probs \u001b[38;5;241m=\u001b[39m [prob \u001b[38;5;28;01mif\u001b[39;00m index \u001b[38;5;129;01min\u001b[39;00m valid_moves \u001b[38;5;28;01melse\u001b[39;00m \u001b[38;5;241m0\u001b[39m \u001b[38;5;28;01mfor\u001b[39;00m index, prob \u001b[38;5;129;01min\u001b[39;00m \u001b[38;5;28menumerate\u001b[39m(action_probs)]\n",
      "File \u001b[1;32m~\\anaconda3\\Lib\\site-packages\\torch\\utils\\_contextlib.py:115\u001b[0m, in \u001b[0;36mcontext_decorator.<locals>.decorate_context\u001b[1;34m(*args, **kwargs)\u001b[0m\n\u001b[0;32m    112\u001b[0m \u001b[38;5;129m@functools\u001b[39m\u001b[38;5;241m.\u001b[39mwraps(func)\n\u001b[0;32m    113\u001b[0m \u001b[38;5;28;01mdef\u001b[39;00m \u001b[38;5;21mdecorate_context\u001b[39m(\u001b[38;5;241m*\u001b[39margs, \u001b[38;5;241m*\u001b[39m\u001b[38;5;241m*\u001b[39mkwargs):\n\u001b[0;32m    114\u001b[0m     \u001b[38;5;28;01mwith\u001b[39;00m ctx_factory():\n\u001b[1;32m--> 115\u001b[0m         \u001b[38;5;28;01mreturn\u001b[39;00m func(\u001b[38;5;241m*\u001b[39margs, \u001b[38;5;241m*\u001b[39m\u001b[38;5;241m*\u001b[39mkwargs)\n",
      "File \u001b[1;32m~\\AppData\\Local\\Temp\\ipykernel_23152\\2068707938.py:131\u001b[0m, in \u001b[0;36mMCTS.search\u001b[1;34m(self, state)\u001b[0m\n\u001b[0;32m    127\u001b[0m \u001b[38;5;66;03m# Check if the node is terminate and backpropagate immediately if not we expand and simulate\u001b[39;00m\n\u001b[0;32m    128\u001b[0m \u001b[38;5;28;01mif\u001b[39;00m \u001b[38;5;129;01mnot\u001b[39;00m is_terminal: \n\u001b[0;32m    129\u001b[0m     \u001b[38;5;66;03m# Expansion phase\u001b[39;00m\n\u001b[0;32m    130\u001b[0m     policy, value \u001b[38;5;241m=\u001b[39m \u001b[38;5;28mself\u001b[39m\u001b[38;5;241m.\u001b[39mmodel(\n\u001b[1;32m--> 131\u001b[0m         torch\u001b[38;5;241m.\u001b[39mtensor(\u001b[38;5;28mself\u001b[39m\u001b[38;5;241m.\u001b[39mgame\u001b[38;5;241m.\u001b[39mget_encoded_state(node\u001b[38;5;241m.\u001b[39mstate))\u001b[38;5;241m.\u001b[39munsqueeze(\u001b[38;5;241m0\u001b[39m) \u001b[38;5;66;03m# Unsqueeze to add a batch dimension\u001b[39;00m\n\u001b[0;32m    132\u001b[0m     )\n\u001b[0;32m    133\u001b[0m     \u001b[38;5;66;03m# Expand the node with the policy and simulate\u001b[39;00m\n\u001b[0;32m    134\u001b[0m     policy \u001b[38;5;241m=\u001b[39m torch\u001b[38;5;241m.\u001b[39msoftmax(policy, axis\u001b[38;5;241m=\u001b[39m\u001b[38;5;241m1\u001b[39m)\u001b[38;5;241m.\u001b[39msqueeze(\u001b[38;5;241m0\u001b[39m)\u001b[38;5;241m.\u001b[39mcpu()\u001b[38;5;241m.\u001b[39mnumpy() \u001b[38;5;66;03m# Softmax the policy and convert it to a numpy array\u001b[39;00m\n",
      "\u001b[1;31mKeyboardInterrupt\u001b[0m: "
     ]
    }
   ],
   "source": [
    "game = GoGame(9) # 9 - dimension\n",
    "\n",
    "device = torch.device(\"cuda\" if torch.cuda.is_available() else \"cpu\") # Check if GPU is available\n",
    "\n",
    "state = game.get_initial_state() # Get the initial state\n",
    "\n",
    "model = ResNet(game, 4, 64, device) # Initialize the model\n",
    "\n",
    "optimizer = torch.optim.Adam(model.parameters(), lr=0.001, weight_decay=0.0001) # Initialize the optimizer with weight decay to prevent overfitting (L2 regularization)\n",
    "\n",
    "# Training parameters\n",
    "args = {\n",
    "    'C': 2, # Exploration constant for the UCT formula\n",
    "    'num_searches': 3, # Number of searches to run for each move\n",
    "    'num_iterations': 3, # Number of iterations to run the training loop\n",
    "    'num_selfPlay_iterations': 5, # Number of self-play games to play in each iteration\n",
    "    'num_epochs': 4, # Number of epochs to train the model\n",
    "    'batch_size': 64, # Batch size for training\n",
    "    'epsilon': 0.25, # Fraction of random moves to play during self-play\n",
    "    'alpha': 0.3 # Weight of the value loss in the total loss\n",
    "}\n",
    "\n",
    "alphaZero = AlphaZero(model, optimizer, game, args) # Initialize the AlphaZero object\n",
    "alphaZero.learn() # Run the training loop"
   ]
  },
  {
   "cell_type": "code",
   "execution_count": null,
   "id": "59b2b326",
   "metadata": {},
   "outputs": [],
   "source": []
  }
 ],
 "metadata": {
  "kernelspec": {
   "display_name": "Python 3 (ipykernel)",
   "language": "python",
   "name": "python3"
  },
  "language_info": {
   "codemirror_mode": {
    "name": "ipython",
    "version": 3
   },
   "file_extension": ".py",
   "mimetype": "text/x-python",
   "name": "python",
   "nbconvert_exporter": "python",
   "pygments_lexer": "ipython3",
   "version": "3.11.5"
  }
 },
 "nbformat": 4,
 "nbformat_minor": 5
}
